{
 "cells": [
  {
   "cell_type": "markdown",
   "metadata": {},
   "source": [
    "# Exploratory Data Analysis of Craigslist Cars Listing\n",
    "\n",
    "This notebook explores a dataset of cars listing from Craigslist, which was originally published on Kaggle by Austin Reese. \n",
    "The dataset contains information about over 400k listings, including details such as the vehicle's make, model, year, price, location, and description.\n",
    "\n",
    "The dataset was collected using the Craigslist API and scraped from Craigslist's website. \n",
    "The project was taken offline around December 2020 but the posting date of listings seems to range from April 2021 to May 2021 (TBC)\n",
    "\n",
    "The dataset is available for download on Kaggle at the following link: [Craigslist Car and Truck Listings](https://www.kaggle.com/datasets/austinreese/craigslist-carstrucks-data)\n",
    "\n",
    "The dataset is in CSV format, with one row per listing and one column per variable.\n",
    "\n",
    "The goal of this notebook is to explore the dataset. We will use data visualization and statistical analysis to answer questions such as:\n",
    "\n",
    "- What are the most popular vehicle makes and models on Craigslist?\n",
    "- etc."
   ]
  },
  {
   "cell_type": "markdown",
   "metadata": {},
   "source": [
    "<!-- variable TBC\n",
    "- `id`: a unique identifier for each listing\n",
    "- `url`: the URL of the listing on Craigslist\n",
    "- `region`: the region where the listing was posted (e.g. \"atlanta\", \"boston\", etc.)\n",
    "- `region_url`: the URL of the region on Craigslist\n",
    "- `price`: the price of the vehicle, in USD\n",
    "- `year`: the year of the vehicle\n",
    "- `manufacturer`: the manufacturer of the vehicle (e.g. \"ford\", \"honda\", etc.)\n",
    "- `model`: the model of the vehicle (e.g. \"focus\", \"civic\", etc.)\n",
    "- `condition`: the condition of the vehicle (e.g. \"new\", \"like new\", \"excellent\", etc.)\n",
    "- `cylinders`: the number of cylinders in the vehicle's engine (e.g. \"4 cylinders\", \"6 cylinders\", etc.)\n",
    "- `fuel`: the type of fuel used by the vehicle (e.g. \"gas\", \"diesel\", etc.)\n",
    "- `odometer`: the mileage of the vehicle, in miles\n",
    "- `title_status`: the title status of the vehicle (e.g. \"clean\", \"salvage\", etc.)\n",
    "- `transmission`: the type of transmission used by the vehicle (e.g. \"automatic\", \"manual\", etc.)\n",
    "- `VIN`: the vehicle identification number (VIN) of the vehicle\n",
    "- `drive`: the type of drive used by the vehicle (e.g. \"4wd\", \"fwd\", etc.)\n",
    "- `size`: the size of the vehicle (e.g. \"full-size\", \"mid-size\", etc.)\n",
    "- `type`: the type of vehicle (e.g. \"sedan\", \"SUV\", etc.)\n",
    "- `paint_color`: the paint color of the vehicle (e.g. \"white\", \"black\", etc.)\n",
    "- `image_url`: the URL of an image of the vehicle\n",
    "- `description`: a description of the vehicle, provided by the seller\n",
    "- `county`: the county where the listing was posted\n",
    "- `state`: the state where the listing was posted\n",
    "- `lat`: the latitude of the listing's location\n",
    "- `long`: the longitude of the listing's location\n",
    "- `posting_date`: the date when the listing was posted on Craigslist -->"
   ]
  },
  {
   "cell_type": "markdown",
   "metadata": {},
   "source": [
    "# 0 - Imports"
   ]
  },
  {
   "cell_type": "markdown",
   "metadata": {},
   "source": [
    "## 0.1 - Libs imports"
   ]
  },
  {
   "cell_type": "code",
   "execution_count": 1,
   "metadata": {},
   "outputs": [],
   "source": [
    "import pandas as pd"
   ]
  },
  {
   "cell_type": "markdown",
   "metadata": {},
   "source": [
    "## 0.2 - Data import"
   ]
  },
  {
   "cell_type": "code",
   "execution_count": 2,
   "metadata": {},
   "outputs": [],
   "source": [
    "df = pd.read_csv('../data/vehicles.csv', encoding=\"utf-8\")"
   ]
  },
  {
   "cell_type": "markdown",
   "metadata": {},
   "source": [
    "# 1 - Exploration"
   ]
  },
  {
   "cell_type": "markdown",
   "metadata": {},
   "source": [
    "## 1.1 - Basic info and first look at the data"
   ]
  },
  {
   "cell_type": "code",
   "execution_count": 3,
   "metadata": {},
   "outputs": [
    {
     "data": {
      "text/html": [
       "<div>\n",
       "<style scoped>\n",
       "    .dataframe tbody tr th:only-of-type {\n",
       "        vertical-align: middle;\n",
       "    }\n",
       "\n",
       "    .dataframe tbody tr th {\n",
       "        vertical-align: top;\n",
       "    }\n",
       "\n",
       "    .dataframe thead th {\n",
       "        text-align: right;\n",
       "    }\n",
       "</style>\n",
       "<table border=\"1\" class=\"dataframe\">\n",
       "  <thead>\n",
       "    <tr style=\"text-align: right;\">\n",
       "      <th></th>\n",
       "      <th>id</th>\n",
       "      <th>url</th>\n",
       "      <th>region</th>\n",
       "      <th>region_url</th>\n",
       "      <th>price</th>\n",
       "      <th>year</th>\n",
       "      <th>manufacturer</th>\n",
       "      <th>model</th>\n",
       "      <th>condition</th>\n",
       "      <th>cylinders</th>\n",
       "      <th>...</th>\n",
       "      <th>size</th>\n",
       "      <th>type</th>\n",
       "      <th>paint_color</th>\n",
       "      <th>image_url</th>\n",
       "      <th>description</th>\n",
       "      <th>county</th>\n",
       "      <th>state</th>\n",
       "      <th>lat</th>\n",
       "      <th>long</th>\n",
       "      <th>posting_date</th>\n",
       "    </tr>\n",
       "  </thead>\n",
       "  <tbody>\n",
       "    <tr>\n",
       "      <th>0</th>\n",
       "      <td>7222695916</td>\n",
       "      <td>https://prescott.craigslist.org/cto/d/prescott...</td>\n",
       "      <td>prescott</td>\n",
       "      <td>https://prescott.craigslist.org</td>\n",
       "      <td>6000</td>\n",
       "      <td>NaN</td>\n",
       "      <td>NaN</td>\n",
       "      <td>NaN</td>\n",
       "      <td>NaN</td>\n",
       "      <td>NaN</td>\n",
       "      <td>...</td>\n",
       "      <td>NaN</td>\n",
       "      <td>NaN</td>\n",
       "      <td>NaN</td>\n",
       "      <td>NaN</td>\n",
       "      <td>NaN</td>\n",
       "      <td>NaN</td>\n",
       "      <td>az</td>\n",
       "      <td>NaN</td>\n",
       "      <td>NaN</td>\n",
       "      <td>NaN</td>\n",
       "    </tr>\n",
       "    <tr>\n",
       "      <th>1</th>\n",
       "      <td>7218891961</td>\n",
       "      <td>https://fayar.craigslist.org/ctd/d/bentonville...</td>\n",
       "      <td>fayetteville</td>\n",
       "      <td>https://fayar.craigslist.org</td>\n",
       "      <td>11900</td>\n",
       "      <td>NaN</td>\n",
       "      <td>NaN</td>\n",
       "      <td>NaN</td>\n",
       "      <td>NaN</td>\n",
       "      <td>NaN</td>\n",
       "      <td>...</td>\n",
       "      <td>NaN</td>\n",
       "      <td>NaN</td>\n",
       "      <td>NaN</td>\n",
       "      <td>NaN</td>\n",
       "      <td>NaN</td>\n",
       "      <td>NaN</td>\n",
       "      <td>ar</td>\n",
       "      <td>NaN</td>\n",
       "      <td>NaN</td>\n",
       "      <td>NaN</td>\n",
       "    </tr>\n",
       "    <tr>\n",
       "      <th>2</th>\n",
       "      <td>7221797935</td>\n",
       "      <td>https://keys.craigslist.org/cto/d/summerland-k...</td>\n",
       "      <td>florida keys</td>\n",
       "      <td>https://keys.craigslist.org</td>\n",
       "      <td>21000</td>\n",
       "      <td>NaN</td>\n",
       "      <td>NaN</td>\n",
       "      <td>NaN</td>\n",
       "      <td>NaN</td>\n",
       "      <td>NaN</td>\n",
       "      <td>...</td>\n",
       "      <td>NaN</td>\n",
       "      <td>NaN</td>\n",
       "      <td>NaN</td>\n",
       "      <td>NaN</td>\n",
       "      <td>NaN</td>\n",
       "      <td>NaN</td>\n",
       "      <td>fl</td>\n",
       "      <td>NaN</td>\n",
       "      <td>NaN</td>\n",
       "      <td>NaN</td>\n",
       "    </tr>\n",
       "    <tr>\n",
       "      <th>3</th>\n",
       "      <td>7222270760</td>\n",
       "      <td>https://worcester.craigslist.org/cto/d/west-br...</td>\n",
       "      <td>worcester / central MA</td>\n",
       "      <td>https://worcester.craigslist.org</td>\n",
       "      <td>1500</td>\n",
       "      <td>NaN</td>\n",
       "      <td>NaN</td>\n",
       "      <td>NaN</td>\n",
       "      <td>NaN</td>\n",
       "      <td>NaN</td>\n",
       "      <td>...</td>\n",
       "      <td>NaN</td>\n",
       "      <td>NaN</td>\n",
       "      <td>NaN</td>\n",
       "      <td>NaN</td>\n",
       "      <td>NaN</td>\n",
       "      <td>NaN</td>\n",
       "      <td>ma</td>\n",
       "      <td>NaN</td>\n",
       "      <td>NaN</td>\n",
       "      <td>NaN</td>\n",
       "    </tr>\n",
       "    <tr>\n",
       "      <th>4</th>\n",
       "      <td>7210384030</td>\n",
       "      <td>https://greensboro.craigslist.org/cto/d/trinit...</td>\n",
       "      <td>greensboro</td>\n",
       "      <td>https://greensboro.craigslist.org</td>\n",
       "      <td>4900</td>\n",
       "      <td>NaN</td>\n",
       "      <td>NaN</td>\n",
       "      <td>NaN</td>\n",
       "      <td>NaN</td>\n",
       "      <td>NaN</td>\n",
       "      <td>...</td>\n",
       "      <td>NaN</td>\n",
       "      <td>NaN</td>\n",
       "      <td>NaN</td>\n",
       "      <td>NaN</td>\n",
       "      <td>NaN</td>\n",
       "      <td>NaN</td>\n",
       "      <td>nc</td>\n",
       "      <td>NaN</td>\n",
       "      <td>NaN</td>\n",
       "      <td>NaN</td>\n",
       "    </tr>\n",
       "  </tbody>\n",
       "</table>\n",
       "<p>5 rows × 26 columns</p>\n",
       "</div>"
      ],
      "text/plain": [
       "           id                                                url  \\\n",
       "0  7222695916  https://prescott.craigslist.org/cto/d/prescott...   \n",
       "1  7218891961  https://fayar.craigslist.org/ctd/d/bentonville...   \n",
       "2  7221797935  https://keys.craigslist.org/cto/d/summerland-k...   \n",
       "3  7222270760  https://worcester.craigslist.org/cto/d/west-br...   \n",
       "4  7210384030  https://greensboro.craigslist.org/cto/d/trinit...   \n",
       "\n",
       "                   region                         region_url  price  year  \\\n",
       "0                prescott    https://prescott.craigslist.org   6000   NaN   \n",
       "1            fayetteville       https://fayar.craigslist.org  11900   NaN   \n",
       "2            florida keys        https://keys.craigslist.org  21000   NaN   \n",
       "3  worcester / central MA   https://worcester.craigslist.org   1500   NaN   \n",
       "4              greensboro  https://greensboro.craigslist.org   4900   NaN   \n",
       "\n",
       "  manufacturer model condition cylinders  ... size  type paint_color  \\\n",
       "0          NaN   NaN       NaN       NaN  ...  NaN   NaN         NaN   \n",
       "1          NaN   NaN       NaN       NaN  ...  NaN   NaN         NaN   \n",
       "2          NaN   NaN       NaN       NaN  ...  NaN   NaN         NaN   \n",
       "3          NaN   NaN       NaN       NaN  ...  NaN   NaN         NaN   \n",
       "4          NaN   NaN       NaN       NaN  ...  NaN   NaN         NaN   \n",
       "\n",
       "  image_url description county state lat long posting_date  \n",
       "0       NaN         NaN    NaN    az NaN  NaN          NaN  \n",
       "1       NaN         NaN    NaN    ar NaN  NaN          NaN  \n",
       "2       NaN         NaN    NaN    fl NaN  NaN          NaN  \n",
       "3       NaN         NaN    NaN    ma NaN  NaN          NaN  \n",
       "4       NaN         NaN    NaN    nc NaN  NaN          NaN  \n",
       "\n",
       "[5 rows x 26 columns]"
      ]
     },
     "execution_count": 3,
     "metadata": {},
     "output_type": "execute_result"
    }
   ],
   "source": [
    "df.head()"
   ]
  },
  {
   "cell_type": "code",
   "execution_count": 4,
   "metadata": {},
   "outputs": [
    {
     "name": "stdout",
     "output_type": "stream",
     "text": [
      "<class 'pandas.core.frame.DataFrame'>\n",
      "RangeIndex: 426880 entries, 0 to 426879\n",
      "Data columns (total 26 columns):\n",
      " #   Column        Non-Null Count   Dtype  \n",
      "---  ------        --------------   -----  \n",
      " 0   id            426880 non-null  int64  \n",
      " 1   url           426880 non-null  object \n",
      " 2   region        426880 non-null  object \n",
      " 3   region_url    426880 non-null  object \n",
      " 4   price         426880 non-null  int64  \n",
      " 5   year          425675 non-null  float64\n",
      " 6   manufacturer  409234 non-null  object \n",
      " 7   model         421603 non-null  object \n",
      " 8   condition     252776 non-null  object \n",
      " 9   cylinders     249202 non-null  object \n",
      " 10  fuel          423867 non-null  object \n",
      " 11  odometer      422480 non-null  float64\n",
      " 12  title_status  418638 non-null  object \n",
      " 13  transmission  424324 non-null  object \n",
      " 14  VIN           265838 non-null  object \n",
      " 15  drive         296313 non-null  object \n",
      " 16  size          120519 non-null  object \n",
      " 17  type          334022 non-null  object \n",
      " 18  paint_color   296677 non-null  object \n",
      " 19  image_url     426812 non-null  object \n",
      " 20  description   426810 non-null  object \n",
      " 21  county        0 non-null       float64\n",
      " 22  state         426880 non-null  object \n",
      " 23  lat           420331 non-null  float64\n",
      " 24  long          420331 non-null  float64\n",
      " 25  posting_date  426812 non-null  object \n",
      "dtypes: float64(5), int64(2), object(19)\n",
      "memory usage: 84.7+ MB\n"
     ]
    }
   ],
   "source": [
    "df.info()"
   ]
  },
  {
   "cell_type": "markdown",
   "metadata": {},
   "source": [
    "> Notes:\n",
    "> - 426.880 entries!\n",
    "> - Some data are missing, keep an eye on it\n",
    "> - \"county\" is always missing "
   ]
  },
  {
   "cell_type": "code",
   "execution_count": 5,
   "metadata": {},
   "outputs": [
    {
     "data": {
      "text/plain": [
       "count                       426812\n",
       "unique                      381536\n",
       "top       2021-04-23T22:13:05-0400\n",
       "freq                            12\n",
       "Name: posting_date, dtype: object"
      ]
     },
     "execution_count": 5,
     "metadata": {},
     "output_type": "execute_result"
    }
   ],
   "source": [
    "df[\"posting_date\"].describe()\n",
    "#df['time'] = pd.to_datetime(df['time'])??"
   ]
  },
  {
   "cell_type": "code",
   "execution_count": 6,
   "metadata": {},
   "outputs": [
    {
     "data": {
      "text/plain": [
       "manufacturer\n",
       "ford         70985\n",
       "chevrolet    55064\n",
       "toyota       34202\n",
       "honda        21269\n",
       "nissan       19067\n",
       "jeep         19014\n",
       "ram          18342\n",
       "gmc          16785\n",
       "bmw          14699\n",
       "dodge        13707\n",
       "Name: count, dtype: int64"
      ]
     },
     "execution_count": 6,
     "metadata": {},
     "output_type": "execute_result"
    }
   ],
   "source": [
    "df['manufacturer'].value_counts().head(10)"
   ]
  },
  {
   "cell_type": "markdown",
   "metadata": {},
   "source": [
    "> Notes: \n",
    "> - Ford is the most popular manufacturer, not very surprising haha"
   ]
  },
  {
   "cell_type": "code",
   "execution_count": 7,
   "metadata": {},
   "outputs": [
    {
     "data": {
      "text/plain": [
       "model\n",
       "f-150             8009\n",
       "silverado 1500    5140\n",
       "1500              4211\n",
       "camry             3135\n",
       "silverado         3023\n",
       "Name: count, dtype: int64"
      ]
     },
     "execution_count": 7,
     "metadata": {},
     "output_type": "execute_result"
    }
   ],
   "source": [
    "df['model'].value_counts().head(5)"
   ]
  },
  {
   "cell_type": "markdown",
   "metadata": {},
   "source": [
    "> Notes:\n",
    "> - And of course, the most popular car is the F-150 (from Ford)\n",
    "> - Sales by year: 896,526 (2019), 787,372 (2020) and 726,003 (2021) [Source](https://www.goodcarbadcar.net/ford-f-series-sales-figures/). Yeah, it's huge haha!"
   ]
  },
  {
   "cell_type": "markdown",
   "metadata": {},
   "source": [
    "## 1.2 - Deeper look into each variable"
   ]
  },
  {
   "cell_type": "markdown",
   "metadata": {},
   "source": [
    "Ok, let's explore our data and define each column and separate them in what we want to keep or not: \n",
    "\n",
    "**KEEP:** ✔️\n",
    "- `id`: a unique identifier for each listing \n",
    "- `region`: the region where the listing was posted (e.g. \"atlanta\", \"boston\", etc.)\n",
    "- `region_url`: the URL of the region on Craigslist (_potentially useful_)\n",
    "- `price`: the price of the vehicle, in USD\n",
    "- `year`: the year of the vehicle\n",
    "- `manufacturer`: the manufacturer of the vehicle (e.g. \"ford\", \"honda\", etc.)\n",
    "- `model`: the model of the vehicle (e.g. \"focus\", \"civic\", etc.)\n",
    "- `condition`: the condition of the vehicle (e.g. \"new\", \"like new\", \"excellent\", etc.)\n",
    "- `cylinders`: the number of cylinders in the vehicle's engine (e.g. \"4 cylinders\", \"6 cylinders\", etc.)\n",
    "- `fuel`: the type of fuel used by the vehicle (e.g. \"gas\", \"diesel\", etc.)\n",
    "- `odometer`: the mileage of the vehicle, **in miles**\n",
    "- `title_status`: the title status of the vehicle (e.g. \"clean\", \"salvage\", etc.)\n",
    "- `transmission`: the type of transmission used by the vehicle (e.g. \"automatic\", \"manual\", etc.)\n",
    "- `drive`: the type of drive used by the vehicle (e.g. \"4wd\", \"fwd\", etc.)\n",
    "- `size`: the size of the vehicle (e.g. \"full-size\", \"mid-size\", etc.)\n",
    "- `type`: the type of vehicle (e.g. \"sedan\", \"SUV\", etc.)\n",
    "- `paint_color`: the paint color of the vehicle (e.g. \"white\", \"black\", etc.)\n",
    "- `description`: a description of the vehicle, provided by the seller\n",
    "- `state`: the state where the listing was posted\n",
    "- `lat`: the latitude of the listing's location\n",
    "- `long`: the longitude of the listing's location\n",
    "- `posting_date`: the date when the listing was posted on Craigslist\n",
    "\n",
    "**IGNORE:** ❌\n",
    "- `url`: the URL of the listing on Craigslist (not used + URL from 2021...)\n",
    "- `image_url`: the URL of an image of the vehicle (not used + URL from 2021...)\n",
    "- `VIN`: the vehicle identification number (VIN) of the vehicle (UUID already provided by `id`)\n",
    "- `county`: the county where the listing was posted (all NaN)\n",
    "\n",
    "\n",
    "Overall, almost all data are potentially useful. Let's now deal with missing values.\n"
   ]
  },
  {
   "cell_type": "code",
   "execution_count": 8,
   "metadata": {},
   "outputs": [
    {
     "data": {
      "text/html": [
       "<div>\n",
       "<style scoped>\n",
       "    .dataframe tbody tr th:only-of-type {\n",
       "        vertical-align: middle;\n",
       "    }\n",
       "\n",
       "    .dataframe tbody tr th {\n",
       "        vertical-align: top;\n",
       "    }\n",
       "\n",
       "    .dataframe thead th {\n",
       "        text-align: right;\n",
       "    }\n",
       "</style>\n",
       "<table border=\"1\" class=\"dataframe\">\n",
       "  <thead>\n",
       "    <tr style=\"text-align: right;\">\n",
       "      <th></th>\n",
       "      <th>id</th>\n",
       "      <th>url</th>\n",
       "      <th>region</th>\n",
       "      <th>region_url</th>\n",
       "      <th>price</th>\n",
       "      <th>year</th>\n",
       "      <th>manufacturer</th>\n",
       "      <th>model</th>\n",
       "      <th>condition</th>\n",
       "      <th>cylinders</th>\n",
       "      <th>fuel</th>\n",
       "      <th>odometer</th>\n",
       "      <th>title_status</th>\n",
       "      <th>transmission</th>\n",
       "      <th>VIN</th>\n",
       "      <th>drive</th>\n",
       "      <th>size</th>\n",
       "      <th>type</th>\n",
       "      <th>paint_color</th>\n",
       "      <th>image_url</th>\n",
       "      <th>description</th>\n",
       "      <th>county</th>\n",
       "      <th>state</th>\n",
       "      <th>lat</th>\n",
       "      <th>long</th>\n",
       "      <th>posting_date</th>\n",
       "    </tr>\n",
       "  </thead>\n",
       "  <tbody>\n",
       "    <tr>\n",
       "      <th>209113</th>\n",
       "      <td>7307917555</td>\n",
       "      <td>https://saginaw.craigslist.org/ctd/d/chesaning...</td>\n",
       "      <td>saginaw-midland-baycity</td>\n",
       "      <td>https://saginaw.craigslist.org</td>\n",
       "      <td>11995</td>\n",
       "      <td>2010.0</td>\n",
       "      <td>ford</td>\n",
       "      <td>explorer sport trac</td>\n",
       "      <td>NaN</td>\n",
       "      <td>NaN</td>\n",
       "      <td>gas</td>\n",
       "      <td>123879.0</td>\n",
       "      <td>clean</td>\n",
       "      <td>automatic</td>\n",
       "      <td>NaN</td>\n",
       "      <td>NaN</td>\n",
       "      <td>NaN</td>\n",
       "      <td>NaN</td>\n",
       "      <td>NaN</td>\n",
       "      <td>https://images.craigslist.org/00707_25AtYCGeRP...</td>\n",
       "      <td>WE HAVE OVER 350 VEHICLES IN STOCK!   View Our...</td>\n",
       "      <td>NaN</td>\n",
       "      <td>mi</td>\n",
       "      <td>43.182400</td>\n",
       "      <td>-84.112200</td>\n",
       "      <td>2021-04-16T16:23:34-0400</td>\n",
       "    </tr>\n",
       "    <tr>\n",
       "      <th>58370</th>\n",
       "      <td>7305951660</td>\n",
       "      <td>https://slo.craigslist.org/ctd/d/grover-beach-...</td>\n",
       "      <td>san luis obispo</td>\n",
       "      <td>https://slo.craigslist.org</td>\n",
       "      <td>6995</td>\n",
       "      <td>2003.0</td>\n",
       "      <td>ford</td>\n",
       "      <td>ranger</td>\n",
       "      <td>excellent</td>\n",
       "      <td>NaN</td>\n",
       "      <td>gas</td>\n",
       "      <td>170284.0</td>\n",
       "      <td>clean</td>\n",
       "      <td>automatic</td>\n",
       "      <td>1FTYR10U23PB39317</td>\n",
       "      <td>rwd</td>\n",
       "      <td>NaN</td>\n",
       "      <td>NaN</td>\n",
       "      <td>black</td>\n",
       "      <td>https://images.craigslist.org/00H0H_88YMt7GZKE...</td>\n",
       "      <td>2003 *** FORD RANGER  ***    SEE WHY PEOPLE SA...</td>\n",
       "      <td>NaN</td>\n",
       "      <td>ca</td>\n",
       "      <td>35.122159</td>\n",
       "      <td>-120.626169</td>\n",
       "      <td>2021-04-12T17:15:49-0700</td>\n",
       "    </tr>\n",
       "    <tr>\n",
       "      <th>425153</th>\n",
       "      <td>7310344718</td>\n",
       "      <td>https://northernwi.craigslist.org/ctd/d/loyal-...</td>\n",
       "      <td>northern WI</td>\n",
       "      <td>https://northernwi.craigslist.org</td>\n",
       "      <td>25995</td>\n",
       "      <td>2015.0</td>\n",
       "      <td>chevrolet</td>\n",
       "      <td>silverado 3500hd</td>\n",
       "      <td>excellent</td>\n",
       "      <td>8 cylinders</td>\n",
       "      <td>gas</td>\n",
       "      <td>167117.0</td>\n",
       "      <td>clean</td>\n",
       "      <td>automatic</td>\n",
       "      <td>1GB5KYCG4FZ525756</td>\n",
       "      <td>4wd</td>\n",
       "      <td>NaN</td>\n",
       "      <td>NaN</td>\n",
       "      <td>NaN</td>\n",
       "      <td>https://images.craigslist.org/00I0I_jjSsmYJ2vc...</td>\n",
       "      <td>DUALLY 4X4 FLATBED 6.0 GAS GREAT PRICE ONE OWN...</td>\n",
       "      <td>NaN</td>\n",
       "      <td>wi</td>\n",
       "      <td>44.741365</td>\n",
       "      <td>-90.485795</td>\n",
       "      <td>2021-04-21T10:31:00-0500</td>\n",
       "    </tr>\n",
       "    <tr>\n",
       "      <th>415613</th>\n",
       "      <td>7308806310</td>\n",
       "      <td>https://appleton.craigslist.org/cto/d/oshkosh-...</td>\n",
       "      <td>appleton-oshkosh-FDL</td>\n",
       "      <td>https://appleton.craigslist.org</td>\n",
       "      <td>5500</td>\n",
       "      <td>2011.0</td>\n",
       "      <td>chevrolet</td>\n",
       "      <td>traverse</td>\n",
       "      <td>excellent</td>\n",
       "      <td>6 cylinders</td>\n",
       "      <td>gas</td>\n",
       "      <td>247000.0</td>\n",
       "      <td>clean</td>\n",
       "      <td>automatic</td>\n",
       "      <td>NaN</td>\n",
       "      <td>fwd</td>\n",
       "      <td>NaN</td>\n",
       "      <td>NaN</td>\n",
       "      <td>NaN</td>\n",
       "      <td>https://images.craigslist.org/00808_43NqRfRr7Q...</td>\n",
       "      <td>2011 Chevy traverse LT. Higher milage, 247000,...</td>\n",
       "      <td>NaN</td>\n",
       "      <td>wi</td>\n",
       "      <td>44.030400</td>\n",
       "      <td>-88.607000</td>\n",
       "      <td>2021-04-18T12:07:11-0500</td>\n",
       "    </tr>\n",
       "  </tbody>\n",
       "</table>\n",
       "</div>"
      ],
      "text/plain": [
       "                id                                                url  \\\n",
       "209113  7307917555  https://saginaw.craigslist.org/ctd/d/chesaning...   \n",
       "58370   7305951660  https://slo.craigslist.org/ctd/d/grover-beach-...   \n",
       "425153  7310344718  https://northernwi.craigslist.org/ctd/d/loyal-...   \n",
       "415613  7308806310  https://appleton.craigslist.org/cto/d/oshkosh-...   \n",
       "\n",
       "                         region                         region_url  price  \\\n",
       "209113  saginaw-midland-baycity     https://saginaw.craigslist.org  11995   \n",
       "58370           san luis obispo         https://slo.craigslist.org   6995   \n",
       "425153              northern WI  https://northernwi.craigslist.org  25995   \n",
       "415613     appleton-oshkosh-FDL    https://appleton.craigslist.org   5500   \n",
       "\n",
       "          year manufacturer                model  condition    cylinders fuel  \\\n",
       "209113  2010.0         ford  explorer sport trac        NaN          NaN  gas   \n",
       "58370   2003.0         ford               ranger  excellent          NaN  gas   \n",
       "425153  2015.0    chevrolet     silverado 3500hd  excellent  8 cylinders  gas   \n",
       "415613  2011.0    chevrolet             traverse  excellent  6 cylinders  gas   \n",
       "\n",
       "        odometer title_status transmission                VIN drive size type  \\\n",
       "209113  123879.0        clean    automatic                NaN   NaN  NaN  NaN   \n",
       "58370   170284.0        clean    automatic  1FTYR10U23PB39317   rwd  NaN  NaN   \n",
       "425153  167117.0        clean    automatic  1GB5KYCG4FZ525756   4wd  NaN  NaN   \n",
       "415613  247000.0        clean    automatic                NaN   fwd  NaN  NaN   \n",
       "\n",
       "       paint_color                                          image_url  \\\n",
       "209113         NaN  https://images.craigslist.org/00707_25AtYCGeRP...   \n",
       "58370        black  https://images.craigslist.org/00H0H_88YMt7GZKE...   \n",
       "425153         NaN  https://images.craigslist.org/00I0I_jjSsmYJ2vc...   \n",
       "415613         NaN  https://images.craigslist.org/00808_43NqRfRr7Q...   \n",
       "\n",
       "                                              description  county state  \\\n",
       "209113  WE HAVE OVER 350 VEHICLES IN STOCK!   View Our...     NaN    mi   \n",
       "58370   2003 *** FORD RANGER  ***    SEE WHY PEOPLE SA...     NaN    ca   \n",
       "425153  DUALLY 4X4 FLATBED 6.0 GAS GREAT PRICE ONE OWN...     NaN    wi   \n",
       "415613  2011 Chevy traverse LT. Higher milage, 247000,...     NaN    wi   \n",
       "\n",
       "              lat        long              posting_date  \n",
       "209113  43.182400  -84.112200  2021-04-16T16:23:34-0400  \n",
       "58370   35.122159 -120.626169  2021-04-12T17:15:49-0700  \n",
       "425153  44.741365  -90.485795  2021-04-21T10:31:00-0500  \n",
       "415613  44.030400  -88.607000  2021-04-18T12:07:11-0500  "
      ]
     },
     "execution_count": 8,
     "metadata": {},
     "output_type": "execute_result"
    }
   ],
   "source": [
    "pd.set_option('display.max_columns', None)\n",
    "df.sample(n=4)"
   ]
  },
  {
   "cell_type": "code",
   "execution_count": 9,
   "metadata": {},
   "outputs": [
    {
     "data": {
      "text/html": [
       "<div>\n",
       "<style scoped>\n",
       "    .dataframe tbody tr th:only-of-type {\n",
       "        vertical-align: middle;\n",
       "    }\n",
       "\n",
       "    .dataframe tbody tr th {\n",
       "        vertical-align: top;\n",
       "    }\n",
       "\n",
       "    .dataframe thead th {\n",
       "        text-align: right;\n",
       "    }\n",
       "</style>\n",
       "<table border=\"1\" class=\"dataframe\">\n",
       "  <thead>\n",
       "    <tr style=\"text-align: right;\">\n",
       "      <th></th>\n",
       "      <th>Column</th>\n",
       "      <th>Percentage of Null</th>\n",
       "    </tr>\n",
       "  </thead>\n",
       "  <tbody>\n",
       "    <tr>\n",
       "      <th>21</th>\n",
       "      <td>county</td>\n",
       "      <td>100.0%</td>\n",
       "    </tr>\n",
       "    <tr>\n",
       "      <th>16</th>\n",
       "      <td>size</td>\n",
       "      <td>71.8%</td>\n",
       "    </tr>\n",
       "    <tr>\n",
       "      <th>9</th>\n",
       "      <td>cylinders</td>\n",
       "      <td>41.6%</td>\n",
       "    </tr>\n",
       "    <tr>\n",
       "      <th>8</th>\n",
       "      <td>condition</td>\n",
       "      <td>40.8%</td>\n",
       "    </tr>\n",
       "    <tr>\n",
       "      <th>14</th>\n",
       "      <td>VIN</td>\n",
       "      <td>37.7%</td>\n",
       "    </tr>\n",
       "    <tr>\n",
       "      <th>15</th>\n",
       "      <td>drive</td>\n",
       "      <td>30.6%</td>\n",
       "    </tr>\n",
       "    <tr>\n",
       "      <th>18</th>\n",
       "      <td>paint_color</td>\n",
       "      <td>30.5%</td>\n",
       "    </tr>\n",
       "    <tr>\n",
       "      <th>17</th>\n",
       "      <td>type</td>\n",
       "      <td>21.8%</td>\n",
       "    </tr>\n",
       "    <tr>\n",
       "      <th>6</th>\n",
       "      <td>manufacturer</td>\n",
       "      <td>4.1%</td>\n",
       "    </tr>\n",
       "    <tr>\n",
       "      <th>12</th>\n",
       "      <td>title_status</td>\n",
       "      <td>1.9%</td>\n",
       "    </tr>\n",
       "    <tr>\n",
       "      <th>23</th>\n",
       "      <td>lat</td>\n",
       "      <td>1.5%</td>\n",
       "    </tr>\n",
       "    <tr>\n",
       "      <th>24</th>\n",
       "      <td>long</td>\n",
       "      <td>1.5%</td>\n",
       "    </tr>\n",
       "    <tr>\n",
       "      <th>7</th>\n",
       "      <td>model</td>\n",
       "      <td>1.2%</td>\n",
       "    </tr>\n",
       "    <tr>\n",
       "      <th>11</th>\n",
       "      <td>odometer</td>\n",
       "      <td>1.0%</td>\n",
       "    </tr>\n",
       "    <tr>\n",
       "      <th>10</th>\n",
       "      <td>fuel</td>\n",
       "      <td>0.7%</td>\n",
       "    </tr>\n",
       "    <tr>\n",
       "      <th>13</th>\n",
       "      <td>transmission</td>\n",
       "      <td>0.6%</td>\n",
       "    </tr>\n",
       "    <tr>\n",
       "      <th>5</th>\n",
       "      <td>year</td>\n",
       "      <td>0.3%</td>\n",
       "    </tr>\n",
       "    <tr>\n",
       "      <th>0</th>\n",
       "      <td>id</td>\n",
       "      <td>0.0%</td>\n",
       "    </tr>\n",
       "    <tr>\n",
       "      <th>3</th>\n",
       "      <td>region_url</td>\n",
       "      <td>0.0%</td>\n",
       "    </tr>\n",
       "    <tr>\n",
       "      <th>2</th>\n",
       "      <td>region</td>\n",
       "      <td>0.0%</td>\n",
       "    </tr>\n",
       "    <tr>\n",
       "      <th>4</th>\n",
       "      <td>price</td>\n",
       "      <td>0.0%</td>\n",
       "    </tr>\n",
       "    <tr>\n",
       "      <th>1</th>\n",
       "      <td>url</td>\n",
       "      <td>0.0%</td>\n",
       "    </tr>\n",
       "    <tr>\n",
       "      <th>20</th>\n",
       "      <td>description</td>\n",
       "      <td>0.0%</td>\n",
       "    </tr>\n",
       "    <tr>\n",
       "      <th>19</th>\n",
       "      <td>image_url</td>\n",
       "      <td>0.0%</td>\n",
       "    </tr>\n",
       "    <tr>\n",
       "      <th>22</th>\n",
       "      <td>state</td>\n",
       "      <td>0.0%</td>\n",
       "    </tr>\n",
       "    <tr>\n",
       "      <th>25</th>\n",
       "      <td>posting_date</td>\n",
       "      <td>0.0%</td>\n",
       "    </tr>\n",
       "  </tbody>\n",
       "</table>\n",
       "</div>"
      ],
      "text/plain": [
       "          Column Percentage of Null\n",
       "21        county             100.0%\n",
       "16          size              71.8%\n",
       "9      cylinders              41.6%\n",
       "8      condition              40.8%\n",
       "14           VIN              37.7%\n",
       "15         drive              30.6%\n",
       "18   paint_color              30.5%\n",
       "17          type              21.8%\n",
       "6   manufacturer               4.1%\n",
       "12  title_status               1.9%\n",
       "23           lat               1.5%\n",
       "24          long               1.5%\n",
       "7          model               1.2%\n",
       "11      odometer               1.0%\n",
       "10          fuel               0.7%\n",
       "13  transmission               0.6%\n",
       "5           year               0.3%\n",
       "0             id               0.0%\n",
       "3     region_url               0.0%\n",
       "2         region               0.0%\n",
       "4          price               0.0%\n",
       "1            url               0.0%\n",
       "20   description               0.0%\n",
       "19     image_url               0.0%\n",
       "22         state               0.0%\n",
       "25  posting_date               0.0%"
      ]
     },
     "execution_count": 9,
     "metadata": {},
     "output_type": "execute_result"
    }
   ],
   "source": [
    "total_rows = df.shape[0]\n",
    "\n",
    "#Get null numbers for each column\n",
    "null_counts = df.isnull().sum()\n",
    "\n",
    "summary_df = pd.DataFrame({'Column': null_counts.index})\n",
    "\n",
    "summary_df['Percentage of Null'] = ((null_counts.values / total_rows) * 100).round(1)\n",
    "\n",
    "summary_df = summary_df.sort_values('Percentage of Null', ascending=False)\n",
    "\n",
    "summary_df['Percentage of Null'] = summary_df['Percentage of Null'].map(lambda x: f'{x}%')\n",
    "\n",
    "summary_df\n"
   ]
  },
  {
   "cell_type": "markdown",
   "metadata": {},
   "source": [
    "Based on the code above, we can see some data are missing. For some of them, it's between 1/3 and all the lines with missing data:\n",
    "\n",
    "| Column     | Percentage of Null |\n",
    "|------------|--------------------|\n",
    "| county     | 100.0%            |\n",
    "| size       | 71.8%              |\n",
    "| cylinders  | 41.6%              |\n",
    "| condition  | 40.8%              |\n",
    "| VIN        | 37.7%              |\n",
    "| drive      | 30.6%              |\n",
    "| paint_color| 30.5%              |\n",
    "\n",
    "So we can not simply dropna() and loose potentially half (or all!) the data. For now, just know we can drop the column `county` without any remorse."
   ]
  },
  {
   "cell_type": "code",
   "execution_count": 10,
   "metadata": {},
   "outputs": [
    {
     "name": "stdout",
     "output_type": "stream",
     "text": [
      "Number of columns remaining: 25\n"
     ]
    }
   ],
   "source": [
    "if 'county' in df.columns:\n",
    "    df = df.drop(columns=['county'])\n",
    "print(f\"Number of columns remaining: {df.shape[1]}\")"
   ]
  },
  {
   "cell_type": "markdown",
   "metadata": {},
   "source": [
    "As we have a lot of data, we can also drop the lines with NaN in the subset described below: "
   ]
  },
  {
   "cell_type": "code",
   "execution_count": 22,
   "metadata": {},
   "outputs": [
    {
     "name": "stdout",
     "output_type": "stream",
     "text": [
      "By doing so, we are losing 10.17 % of the data. We still get 383487 lines to use.\n"
     ]
    }
   ],
   "source": [
    "df = df.dropna(subset=['manufacturer', 'title_status', \"lat\", 'long', 'model', 'odometer', 'fuel', 'transmission', 'year', 'id', 'region_url', 'region', 'price', 'description', 'image_url', 'state', 'posting_date'])\n",
    "print(\"By doing so, we are losing\", round(((total_rows-df.shape[0]) / total_rows) * 100,2), \"% of the data. We still get\", df.shape[0], \"lines to use.\")"
   ]
  },
  {
   "cell_type": "markdown",
   "metadata": {},
   "source": [
    "Also, we will be droping the \"ignored\" columns mentionned earlier in the dedicated script."
   ]
  },
  {
   "cell_type": "markdown",
   "metadata": {},
   "source": [
    "## 1.3 - Are all the data types correct?"
   ]
  },
  {
   "cell_type": "markdown",
   "metadata": {},
   "source": [
    "From the .info() we got earlier, price/year/odometer/county/posting_date may not be the adequate types.\n",
    "\n",
    "- Price: can not be set as float on Craiglist, so int64 is adequate\n",
    "- Year: is set a float when years should be int, the code below is going to correct it\n",
    "- Odometer: can not be set as float on Craiglist, the code below is going to correct it\n",
    "- County: is always empty and will be ignored so it's ok to leave it as is \n",
    "- Posting_date: is set as \"object\" which is not wrong but datetime data type would allow us to perform better information retrieval, let's fix that\n"
   ]
  },
  {
   "cell_type": "code",
   "execution_count": null,
   "metadata": {},
   "outputs": [],
   "source": [
    "#NaN ignored by default\n",
    "df['year'] = pd.to_numeric(df['year'], errors=\"coerce\").astype('Int64')\n",
    "\n",
    "df['odometer'] = pd.to_numeric(df['odometer'], errors=\"coerce\").astype('Int64')\n",
    "\n",
    "#ISO 8601 format\n",
    "df['posting_date'] = pd.to_datetime(df['posting_date'], errors='coerce')\n",
    "\n",
    "#I need to run this line twice??"
   ]
  },
  {
   "cell_type": "code",
   "execution_count": null,
   "metadata": {},
   "outputs": [
    {
     "data": {
      "text/plain": [
       "0        NaN\n",
       "1        NaN\n",
       "2        NaN\n",
       "3        NaN\n",
       "4        NaN\n",
       "          ..\n",
       "426875   NaN\n",
       "426876   NaN\n",
       "426877   NaN\n",
       "426878   NaN\n",
       "426879   NaN\n",
       "Name: posting_date, Length: 426880, dtype: float64"
      ]
     },
     "execution_count": 16,
     "metadata": {},
     "output_type": "execute_result"
    }
   ],
   "source": [
    "df['posting_date'].dt.year\n",
    "#returns float bc NaN but dtype is datetime"
   ]
  },
  {
   "cell_type": "code",
   "execution_count": null,
   "metadata": {},
   "outputs": [
    {
     "name": "stdout",
     "output_type": "stream",
     "text": [
      "<class 'pandas.core.frame.DataFrame'>\n",
      "RangeIndex: 426880 entries, 0 to 426879\n",
      "Data columns (total 25 columns):\n",
      " #   Column        Non-Null Count   Dtype                    \n",
      "---  ------        --------------   -----                    \n",
      " 0   id            426880 non-null  int64                    \n",
      " 1   url           426880 non-null  object                   \n",
      " 2   region        426880 non-null  object                   \n",
      " 3   region_url    426880 non-null  object                   \n",
      " 4   price         426880 non-null  int64                    \n",
      " 5   year          425675 non-null  Int64                    \n",
      " 6   manufacturer  409234 non-null  object                   \n",
      " 7   model         421603 non-null  object                   \n",
      " 8   condition     252776 non-null  object                   \n",
      " 9   cylinders     249202 non-null  object                   \n",
      " 10  fuel          423867 non-null  object                   \n",
      " 11  odometer      422480 non-null  Int64                    \n",
      " 12  title_status  418638 non-null  object                   \n",
      " 13  transmission  424324 non-null  object                   \n",
      " 14  VIN           265838 non-null  object                   \n",
      " 15  drive         296313 non-null  object                   \n",
      " 16  size          120519 non-null  object                   \n",
      " 17  type          334022 non-null  object                   \n",
      " 18  paint_color   296677 non-null  object                   \n",
      " 19  image_url     426812 non-null  object                   \n",
      " 20  description   426810 non-null  object                   \n",
      " 21  state         426880 non-null  object                   \n",
      " 22  lat           420331 non-null  float64                  \n",
      " 23  long          420331 non-null  float64                  \n",
      " 24  posting_date  100129 non-null  datetime64[ns, UTC-05:00]\n",
      "dtypes: Int64(2), datetime64[ns, UTC-05:00](1), float64(2), int64(2), object(18)\n",
      "memory usage: 82.2+ MB\n"
     ]
    }
   ],
   "source": [
    "df.info()"
   ]
  },
  {
   "cell_type": "code",
   "execution_count": null,
   "metadata": {},
   "outputs": [],
   "source": [
    "df['post_day'] = df['posting_date'].dt.day.astype('Int64')\n",
    "df['post_month'] = df['posting_date'].dt.month.astype('Int64')\n",
    "df['post_year'] = df['posting_date'].dt.year.astype('Int64')"
   ]
  },
  {
   "cell_type": "markdown",
   "metadata": {},
   "source": [
    "## 1.4 - Some sanity checks"
   ]
  },
  {
   "cell_type": "code",
   "execution_count": null,
   "metadata": {},
   "outputs": [
    {
     "data": {
      "text/plain": [
       "298881      pickup 2500 sltquad\n",
       "363727                     328i\n",
       "318731        cooper countryman\n",
       "78585       golf sportwagen tsi\n",
       "26199     rav4 hybrid xse sport\n",
       "279363                   450 sl\n",
       "117011                      cts\n",
       "16165                      edge\n",
       "378793                   sentra\n",
       "4267                       f150\n",
       "Name: model, dtype: object"
      ]
     },
     "execution_count": 43,
     "metadata": {},
     "output_type": "execute_result"
    }
   ],
   "source": [
    "df[\"model\"].sample(10)\n",
    "#it seems to indicate the model is a free text field, it will complicate the task"
   ]
  },
  {
   "cell_type": "code",
   "execution_count": null,
   "metadata": {},
   "outputs": [
    {
     "name": "stdout",
     "output_type": "stream",
     "text": [
      "ford / jaguar / rover / jeep / saturn / mercury / alfa-romeo / land rover / mazda / volkswagen / pontiac / chrysler / hyundai / fiat / gmc / mini / audi / aston-martin / lexus / volvo / acura / lincoln / cadillac / mercedes-benz / mitsubishi / chevrolet / kia / morgan / porsche / ram / dodge / bmw / tesla / nan / harley-davidson / subaru / honda / ferrari / toyota / buick / infiniti / nissan / datsun\n"
     ]
    }
   ],
   "source": [
    "print(*set(df[\"manufacturer\"]), sep=\" / \")\n",
    "#it seems to indicate the manufacturer is taken from a list, nice"
   ]
  },
  {
   "cell_type": "code",
   "execution_count": null,
   "metadata": {},
   "outputs": [
    {
     "name": "stdout",
     "output_type": "stream",
     "text": [
      "30481     Vehicle DescriptionEverything youre looking for and more, our 2017 Kia Forte LX Sedan is sleek and sporty in Silky Silver! Motivated by a robust 2.0 Liter 4 Cylinder that provides 147hp with its responsive 6 Speed Automatic transmission for passing ease. This Front Wheel Drive Sedan accelerates quickly and delivers a sporty feel while also rewarding your wallet with near 38mpg on the highway! Our Forte has a style for miles with a stunning silhouette that is further complemented by beautiful...\n",
      "334500    2011 BMW X5 xDrive35i     Offered by: Car N Drive - INCREDIBLE DEALS FOR TAX SEASON! — (609) 631-3522 — $9,799       Car N Drive - INCREDIBLE DEALS FOR TAX SEASON!    Year: 2011 Make: BMW Model: X5 Series: xDrive35i VIN: 5UXZV4C56BL415511 Stock #: 415511 Condition: Used Mileage: 139,240  Exterior: Platinum Gray Metallic Interior: Beige Leatherette i Body: Sport Utility 4-dr Transmission: Automatic Engine: 3.0L L6 DOHC 24V      ⭐️ CAR N DRIVE - PAYMENTS AS LOW AS $49/WEEK! ⭐️  ↪ https://www.n...\n",
      "231965                                                                                                                                                                                                                                                                                                                                                                                                                                5 new tires, new intake manifold, new headlights and turn signals, new battery.cold air\n",
      "275877                                                                                                                                                                                                                                                                                                 One Owner Chevrolet Tahoe LTZ, AWD, 146000Miles, great on gas, dvd, alarm, leather, services up to date, Very clean and well kept, clean title, Clean Car Fax If you have any questions please call  show contact info\n",
      "424985    2012 *** Jeep Wrangler Unlimited Sahara SUV ***    Ready To Upgrade Your Ride Today? We Make It Fast & Easy!Call ☏ (262) 923−3440       \\t\\t\\tYear : 2012\\t\\t\\t\\tMake : Jeep\\t\\t\\t\\tModel : Wrangler\\t\\t\\t\\tTrim : Unlimited Sahara\\t\\t\\t\\t   Mileage : 94,671 miles\\t\\t\\t\\tTransmission : Automatic\\t\\t\\t\\tExterior Color : Black Forest Green Pearlcoat\\t\\t\\t\\tInterior Color : Dark Saddle/Black\\t\\t\\t\\tSeries : Unlimited Sahara SUV\\t\\t\\t\\tDrivetrain : 4WD\\t\\t\\t\\tCondition : Excellent\\t\\t\\t\\tVIN : 1C4HJ...\n",
      "216965                                                                                                                                                                                                                                                                                                                                                                                  Awesome LR3 for sale it’s all wheel drive with only 101600 miles HSE trim, 3 row seating for 7 people black and black very nice shape\n",
      "354498    2011 Toyota Camry LE 4dr Sedan 6A     Offered by: US Auto Network — (865) 280-3860 — $6,990     FOR MORE INFO VISIT OUR WEB SITE AT WWW.USAUTONETWORKS.COM OR give us a call and ask about our financing options today!! 865-249-8182   US Auto Network    Year: 2011 Make: Toyota Model: Camry Series: LE 4dr Sedan 6A VIN: 4T1BF3EK0BU703270  Condition: Used Mileage: 185,388 MPG: 22 city / 31 highway Exterior: Turquoise Interior: Beige Body: Sedan Transmission: Automatic 6-Speed Engine: 2.5L I4 Drive...\n",
      "169612                                                                                                                                                                                                                                                                                                                                                                                                                                                               It’s a 2019 Ford fiesta there is 26628 miles on the car.\n",
      "361452    Stock #091854  Ride and Drive, LLC 3011 Gallatin Pike Nashville, TN 37216  ****Everyone is approved. All you need is Proof of income, proof of address, state ID or drivers license, and down payment. Bring those 4 things and you can drive off today. NO CREDIT CHECK****  $3000 Down Payment and Financed at $12,900  2013 Honda Odyssey - Chrome Trim - Third Row Seats - Rear Air - DVD Player - Display Screen - CD Player - Radio - USB Port - AUX Port - Cruise Control - Bluetooth  CALL TODAY!! NO AP...\n",
      "237027    2011 Hyundai Elantra Touring SE Automatic     Offered by: Hometown Auto & Credit — (336) 791-0734 — Text (or call) for more info       Hometown Auto & Credit    Year: 2011 Make: Hyundai Model: Elantra Touring Series: SE Automatic VIN: KMHDC8AE2BU121430 Stock #: P9568 Condition: Used Mileage: 143,959 MPG: 28 city / 38 highway Exterior: Atlantic Blue  Body: HATCHBACK 5-DR Transmission: 4-Speed Automatic Engine: 2.0L L4 DOHC 16V      ** Hometown Auto & Credit - 🚘 -  All Credit Approved **  ⭐️  ...\n"
     ]
    }
   ],
   "source": [
    "pd.options.display.max_colwidth = 500\n",
    "print(df.description.sample(10).to_string(index=True))\n",
    "#a lot of content, yup"
   ]
  },
  {
   "cell_type": "code",
   "execution_count": null,
   "metadata": {},
   "outputs": [
    {
     "name": "stdout",
     "output_type": "stream",
     "text": [
      "1900 / 1901 / 1902 / 1903 / 1905 / 1909 / 1910 / 1913 / 1915 / 1916 / 1918 / 1920 / 1921 / 1922 / 1923 / 1924 / 1925 / 1926 / 1927 / 1928 / 1929 / 1930 / 1931 / 1932 / 1933 / 1934 / 1935 / 1936 / 1937 / 1938 / 1939 / 1940 / 1941 / 1942 / 1943 / 1944 / 1945 / 1946 / 1947 / 1948 / 1949 / 1950 / 1951 / 1952 / 1953 / 1954 / 1955 / 1956 / 1957 / 1958 / 1959 / 1960 / 1961 / 1962 / 1963 / 1964 / 1965 / 1966 / 1967 / 1968 / 1969 / 1970 / 1971 / 1972 / 1973 / 1974 / 1975 / 1976 / 1977 / 1978 / 1979 / 1980 / 1981 / 1982 / 1983 / 1984 / 1985 / 1986 / 1987 / 1988 / 1989 / 1990 / 1991 / 1992 / 1993 / 1994 / 1995 / 1996 / 1997 / 1998 / 1999 / 2000 / 2001 / 2002 / 2003 / 2004 / 2005 / 2006 / 2007 / 2008 / 2009 / 2010 / 2011 / 2012 / 2013 / 2014 / 2015 / 2016 / 2017 / 2018 / 2019 / 2020 / 2021 / 2022 / <NA>\n"
     ]
    }
   ],
   "source": [
    "print(*set(df[\"year\"]), sep=\" / \")"
   ]
  },
  {
   "cell_type": "code",
   "execution_count": null,
   "metadata": {},
   "outputs": [
    {
     "name": "stdout",
     "output_type": "stream",
     "text": [
      "nan / electric / diesel / other / hybrid / gas\n"
     ]
    }
   ],
   "source": [
    "print(*set(df[\"fuel\"]), sep=\" / \")"
   ]
  },
  {
   "cell_type": "code",
   "execution_count": null,
   "metadata": {},
   "outputs": [
    {
     "name": "stdout",
     "output_type": "stream",
     "text": [
      "manual / other / nan / automatic\n"
     ]
    }
   ],
   "source": [
    "print(*set(df[\"transmission\"]), sep=\" / \")"
   ]
  },
  {
   "cell_type": "code",
   "execution_count": null,
   "metadata": {},
   "outputs": [
    {
     "name": "stdout",
     "output_type": "stream",
     "text": [
      "yellow / nan / white / black / silver / green / grey / blue / orange / purple / custom / brown / red\n"
     ]
    }
   ],
   "source": [
    "print(*set(df[\"paint_color\"]), sep=\" / \")"
   ]
  },
  {
   "cell_type": "code",
   "execution_count": null,
   "metadata": {},
   "outputs": [
    {
     "name": "stdout",
     "output_type": "stream",
     "text": [
      "van / nan / sedan / convertible / wagon / pickup / hatchback / other / coupe / offroad / truck / mini-van / bus / SUV\n"
     ]
    }
   ],
   "source": [
    "print(*set(df[\"type\"]), sep=\" / \")"
   ]
  },
  {
   "cell_type": "code",
   "execution_count": null,
   "metadata": {},
   "outputs": [
    {
     "name": "stdout",
     "output_type": "stream",
     "text": [
      "6 cylinders / 5 cylinders / nan / 4 cylinders / 10 cylinders / other / 8 cylinders / 12 cylinders / 3 cylinders\n"
     ]
    }
   ],
   "source": [
    "print(*set(df[\"cylinders\"]), sep=\" / \") "
   ]
  },
  {
   "cell_type": "markdown",
   "metadata": {},
   "source": [
    "> OK, data seems fine, we can probably start visualization"
   ]
  },
  {
   "cell_type": "markdown",
   "metadata": {},
   "source": [
    "# Last - Potential Questions for Data Visualization\n",
    "\n",
    "**Basic Questions**\n",
    "- What are the top five manufacturers?\n",
    "- What are the top 10 models?\n",
    "- What are the most common vehicle types (SUV, sedan, truck, etc.)?\n",
    "\n",
    "- What is the distribution of vehicle prices?\n",
    "- What are the mean, median, minimum, and maximum prices of the vehicles?\n",
    "- Mean price for top1 vehicle\n",
    "\n",
    "- What is the distribution of vehicle manufacturing years?\n",
    "- What are the newest and oldest models in the dataset?\n",
    "\n",
    "- What is the distribution of the most common energy types (gasoline/diesel vs. electric vs. other)?\n",
    "- What are the most common transmission types (automatic, manual, etc.)?\n",
    "- What are the most common paint colors?\n",
    "\n",
    "**Correlation Questions**\n",
    "- What is the correlation between vehicle prices and other variables such as manufacturing year, mileage, and engine size (cylinders)? -> _Heatmap!!_\n",
    "\n",
    "**NLP Exploration**\n",
    "- What are the most frequent keywords in the vehicle descriptions?\n",
    "- Are there specific keywords associated with higher or lower prices?\n",
    "- What is the general sentiment of the vehicle descriptions (positive, negative, neutral)?\n",
    "- Are there specific topics that are more frequent for certain vehicle types or manufacturers?"
   ]
  },
  {
   "cell_type": "markdown",
   "metadata": {},
   "source": []
  }
 ],
 "metadata": {
  "kernelspec": {
   "display_name": "venv_project",
   "language": "python",
   "name": "python3"
  },
  "language_info": {
   "codemirror_mode": {
    "name": "ipython",
    "version": 3
   },
   "file_extension": ".py",
   "mimetype": "text/x-python",
   "name": "python",
   "nbconvert_exporter": "python",
   "pygments_lexer": "ipython3",
   "version": "3.12.4"
  }
 },
 "nbformat": 4,
 "nbformat_minor": 2
}
